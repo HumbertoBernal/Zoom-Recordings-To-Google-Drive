{
 "cells": [
  {
   "cell_type": "code",
   "execution_count": 47,
   "metadata": {},
   "outputs": [],
   "source": [
    "import csv\n",
    "from services.zoom import generate_jwt, get_meeting_recordings, set_recording_settings, delete_recording\n",
    "from dotenv import load_dotenv\n",
    "from services.google import create_folder, upload_file\n",
    "import requests\n",
    "\n",
    "# Load the environment variables from the .env file\n",
    "load_dotenv()\n",
    "\n",
    "import os\n",
    "\n",
    "SAVE_FILE_PATH = 'filtered_data.csv'\n",
    "\n",
    "ALL_RECORDINGS_PATH = 'data.csv'\n",
    "\n",
    "api_key = os.environ['ZOOM_API_KEY']\n",
    "api_secret = os.environ['ZOOM_API_SECRET']\n",
    "\n",
    "\n",
    "# Replace FOLDER_ID with the ID of the folder where you want to upload the file\n",
    "FOLDER_ID = '19_SkohMvIP9xbw3lzqAQJm5CJNqJq55K'\n",
    "\n"
   ]
  },
  {
   "cell_type": "code",
   "execution_count": 49,
   "metadata": {},
   "outputs": [],
   "source": [
    "def read_csv(filename, meeting_key='ID de la reunión') -> list:\n",
    "    data = list()\n",
    "    with open(filename, mode='r') as csv_file:\n",
    "        csv_reader = csv.DictReader(csv_file)\n",
    "        line_count = 0\n",
    "        for row in csv_reader:\n",
    "            if line_count == 0:\n",
    "                print(f'Column names are {\", \".join(row)}')\n",
    "                line_count += 1\n",
    "            else:\n",
    "                \"\"\" Tema de la reunión, ID de la reunión, Hora de inicio de la reunión, Tamaño del archivo, Visualizaciones en total, Descargas en total, Último acceso \"\"\"\n",
    "                meeting_id = row[meeting_key].replace(' ', '')\n",
    "                \n",
    "                data.append(meeting_id)\n",
    "                line_count += 1\n",
    "        print(f'Processed {line_count} lines.')\n",
    "    return data"
   ]
  },
  {
   "cell_type": "code",
   "execution_count": 24,
   "metadata": {},
   "outputs": [],
   "source": [
    "def write_csv(data, save_file_path):\n",
    "    with open(save_file_path, mode='w') as save_file:\n",
    "        filtered_data_writer = csv.writer(save_file, delimiter=',', quotechar='\"', quoting=csv.QUOTE_MINIMAL)\n",
    "        filtered_data_writer.writerow(['Meeting ID'])\n",
    "        for meeting_id in data:\n",
    "            filtered_data_writer.writerow([meeting_id])"
   ]
  },
  {
   "attachments": {},
   "cell_type": "markdown",
   "metadata": {},
   "source": [
    "Obtener Info de los recordings"
   ]
  },
  {
   "cell_type": "code",
   "execution_count": 5,
   "metadata": {},
   "outputs": [],
   "source": [
    "def get_recordings(meeting_id):\n",
    "    token = generate_jwt(api_key, api_secret)\n",
    "    recordings = get_meeting_recordings(token, meeting_id)\n",
    "    return recordings\n",
    "\n",
    "def update_recording_settings(meeting_id):\n",
    "    token = generate_jwt(api_key, api_secret)\n",
    "    set_recording_settings(token, meeting_id)"
   ]
  },
  {
   "cell_type": "code",
   "execution_count": 7,
   "metadata": {},
   "outputs": [],
   "source": [
    "\n",
    "def download_file(recording_url, filename):\n",
    "    token = generate_jwt(api_key, api_secret)\n",
    "    new_download_url = recording_url +'?access_token=' + token\n",
    "        \n",
    "    try:\n",
    "        response = requests.get(new_download_url, stream=True)\n",
    "    except requests.exceptions.ConnectionError as err:\n",
    "        print(err)\n",
    "        response = requests.get(new_download_url, stream=True)\n",
    "    try:\n",
    "        with open(filename, 'wb') as fd:\n",
    "            for chunk in response.iter_content(chunk_size=1024 * 8):\n",
    "                if chunk:\n",
    "                    fd.write(chunk)\n",
    "                    fd.flush()\n",
    "                    os.fsync(fd.fileno())\n",
    "        print(f'File downloaded and saved to {filename}')\n",
    "        return True    \n",
    "    except Exception as e:\n",
    "        print(e)\n",
    "        return False\n"
   ]
  },
  {
   "cell_type": "code",
   "execution_count": 20,
   "metadata": {},
   "outputs": [],
   "source": [
    "def process_meeting_id(meeting_id):\n",
    "    recording = get_recordings(meeting_id)\n",
    "\n",
    "    if 'code' in recording:\n",
    "      if recording['code'] == 3301:\n",
    "        print(\"ERROR: Couldn't find recordings for \" + meeting_id)\n",
    "        return False\n",
    "    \n",
    "    # Add allow download recording setting for meeting_id\n",
    "    update_recording_settings(meeting_id)\n",
    "    \n",
    "    # Create GDrive folder\n",
    "    title = recording['start_time'] +'-' + recording['topic']\n",
    "    folder_id = create_folder(title, FOLDER_ID)\n",
    "\n",
    "    \n",
    "    # Process each recording file of specific meeting_id\n",
    "    recording_files = recording['recording_files']\n",
    "\n",
    "    for recording in recording_files:\n",
    "        download_url = recording['download_url']\n",
    "\n",
    "        file_extension = recording['file_extension']\n",
    "\n",
    "        if file_extension == 'MP4':\n",
    "            MIME_TYPE = 'video/mp4'\n",
    "        elif file_extension == 'TXT':\n",
    "            MIME_TYPE = 'text/plain'\n",
    "        elif file_extension == 'M4A':\n",
    "            MIME_TYPE = 'audio/mpeg'\n",
    "\n",
    "        filename = recording['id'] + '.' + file_extension\n",
    "\n",
    "        #download the file\n",
    "        downloaded = download_file(download_url, filename_path)\n",
    "        file_size = recording['file_size']/1000/1024\n",
    "        \n",
    "        if downloaded:\n",
    "          print(f'-- Successfully downloaded {filename} size: {file_size} Mb')\n",
    "        \n",
    "        if downloaded:\n",
    "            upload_file(filename, MIME_TYPE, folder_id)\n",
    "\n",
    "            \n",
    "            # Delete the file from the local storage\n",
    "            os.remove(filename)"
   ]
  },
  {
   "attachments": {},
   "cell_type": "markdown",
   "metadata": {},
   "source": [
    "# Run\n",
    "Download the csv files of all recording in your Recordings page in zoom and rename it to data.csv"
   ]
  },
  {
   "cell_type": "code",
   "execution_count": null,
   "metadata": {},
   "outputs": [],
   "source": [
    "data = read_csv('data.csv')\n",
    "total = len(data)\n",
    "\n",
    "for idx, meeting_id in enumerate(data):\n",
    "    print(f\"\"\" \n",
    "    ---------------------------\n",
    "    {idx+1}/{total} Start meeting: {meeting_id}\n",
    "    ---------------------------\n",
    "\n",
    "    \"\"\")\n",
    "    process_meeting_id(meeting_id)\n",
    "    token = generate_jwt(api_key, api_secret)\n",
    "    response = delete_recording(meeting_id, token)\n",
    "    if response == '':\n",
    "        print(f'{meeting_id} deleted successfully') \n",
    "    else:\n",
    "        print(f\"\"\" \n",
    "          ---------------------------\n",
    "          ERROR. probably {meeting_id} couldn't be deleted\n",
    "          ---------------------------\"\"\")"
   ]
  }
 ],
 "metadata": {
  "kernelspec": {
   "display_name": "venv",
   "language": "python",
   "name": "python3"
  },
  "language_info": {
   "codemirror_mode": {
    "name": "ipython",
    "version": 3
   },
   "file_extension": ".py",
   "mimetype": "text/x-python",
   "name": "python",
   "nbconvert_exporter": "python",
   "pygments_lexer": "ipython3",
   "version": "3.10.6 (main, Aug 11 2022, 13:49:25) [Clang 13.1.6 (clang-1316.0.21.2.5)]"
  },
  "orig_nbformat": 4,
  "vscode": {
   "interpreter": {
    "hash": "e5a2e0aedaa404e5ce424808b5e6845d68cac2bdd7b8d3ccd87891aace49eaea"
   }
  }
 },
 "nbformat": 4,
 "nbformat_minor": 2
}
